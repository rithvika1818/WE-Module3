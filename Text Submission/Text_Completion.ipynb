{
  "nbformat": 4,
  "nbformat_minor": 0,
  "metadata": {
    "colab": {
      "provenance": []
    },
    "kernelspec": {
      "name": "python3",
      "display_name": "Python 3"
    },
    "language_info": {
      "name": "python"
    }
  },
  "cells": [
    {
      "cell_type": "code",
      "execution_count": 1,
      "metadata": {
        "colab": {
          "base_uri": "https://localhost:8080/"
        },
        "id": "ao6LDDf7-dBV",
        "outputId": "dc281db8-57d4-4c16-97e2-bafd2c9f60f0"
      },
      "outputs": [
        {
          "output_type": "stream",
          "name": "stdout",
          "text": [
            "the original text the model will learn the probabilities of\n"
          ]
        }
      ],
      "source": [
        "import random\n",
        "\n",
        "def generate_text(word_dict, start_word, output_length, chain_length=10):\n",
        "  \"\"\"\n",
        "  Generates text recursively using a Markov chain model, with a maximum chain length.\n",
        "\n",
        "  Args:\n",
        "      word_dict: A dictionary representing word transitions.\n",
        "      start_word: The word to start the generated text.\n",
        "      output_length: The desired length of the generated text.\n",
        "      chain_length: The maximum length of the word chain to consider (default 10).\n",
        "\n",
        "  Returns:\n",
        "      A string containing the generated text.\n",
        "  \"\"\"\n",
        "\n",
        "\n",
        "  if output_length <= 0:\n",
        "    return \"\"\n",
        "\n",
        "  if chain_length <= 0:  # Allow chain_length to be 0\n",
        "    next_word = random.choice(list(word_dict[start_word].keys()))  # Choose a random next word\n",
        "    return f\"{start_word} {generate_text(word_dict, next_word, output_length - 1, chain_length)}\"  # Recursive call\n",
        "\n",
        "  next_word = select_next_word(word_dict, start_word)\n",
        "  # Limit chain length by stopping recursion if chain_length is reached\n",
        "  if chain_length == 1:\n",
        "    return f\"{start_word}\"\n",
        "  else:\n",
        "    return f\"{start_word} {generate_text(word_dict, next_word, output_length - 1, chain_length - 1)}\"\n",
        "\n",
        "\n",
        "\n",
        "def select_next_word(word_dict, current_word):\n",
        "  \"\"\"Selects the next word based on probabilities or a random choice.\"\"\"\n",
        "\n",
        "  if current_word not in word_dict:\n",
        "    return random.choice(list(word_dict.keys()))  # Random word if not in dict\n",
        "\n",
        "  word_choices = list(word_dict[current_word].keys())\n",
        "  word_probs = [word_dict[current_word][word] / sum(word_dict[current_word].values()) for word in word_choices]\n",
        "  return random.choices(word_choices, word_probs)[0]\n",
        "\n",
        "# Sample text corpus (replace with your own corpus or file reading logic)\n",
        "text_corpus = \"This is a sample text corpus. It contains various words and phrases that can be used to generate new text. The model will learn the probabilities of word transitions and use them to create a sequence of words that resembles the original text.\"\n",
        "\n",
        "# Clean the corpus text\n",
        "corpus_text = text_corpus.lower()\n",
        "corpus_text = corpus_text.replace(\",\", \"\").replace(\".\", \"\").replace(\"!\", \"\").replace(\"?\", \"\")\n",
        "words = corpus_text.split()\n",
        "\n",
        "# Create a dictionary to store word transitions\n",
        "word_dict = {}\n",
        "i = 0\n",
        "while i < len(words) - 1:\n",
        "  current_word = words[i]\n",
        "  if current_word not in word_dict:\n",
        "    word_dict[current_word] = {}\n",
        "  next_word = words[i + 1]\n",
        "  if next_word in word_dict[current_word]:\n",
        "    word_dict[current_word][next_word] += 1\n",
        "  else:\n",
        "    word_dict[current_word][next_word] = 1\n",
        "  i += 1\n",
        "\n",
        "# Example usage\n",
        "text = generate_text(word_dict, start_word=\"the\", output_length=10)\n",
        "print(text)"
      ]
    },
    {
      "cell_type": "code",
      "source": [
        "# Test case 1: Basic Functionality\n",
        "text = generate_text(word_dict, start_word=\"the\", output_length=5, chain_length = 5)\n",
        "print(text)\n",
        "\n",
        "# Verify the output starts with \"the\" and is 5 words long\n",
        "if text.startswith(\"the\") and len(text.split()) == 5:\n",
        "  print(\"Test case 1 passed: Basic functionality works!\")\n",
        "else:\n",
        "  print(\"Test case 1 failed: Output doesn't meet expectations.\")"
      ],
      "metadata": {
        "colab": {
          "base_uri": "https://localhost:8080/"
        },
        "id": "Rq4bd6rb_0OU",
        "outputId": "36138cbe-30cc-45c0-a075-2f9c011c4191"
      },
      "execution_count": 2,
      "outputs": [
        {
          "output_type": "stream",
          "name": "stdout",
          "text": [
            "the model will learn the\n",
            "Test case 1 passed: Basic functionality works!\n"
          ]
        }
      ]
    },
    {
      "cell_type": "code",
      "source": [
        "# Test case 2: Handling Unknown Start Word\n",
        "text = generate_text(word_dict, start_word=\"zebra\", output_length=7,  chain_length = 1)\n",
        "print(text)\n",
        "\n",
        "# No specific verification needed for this test case\n",
        "print(\"Test case 2 passed: Code should generate text starting with 'zebra' even if it's not in the corpus.\")"
      ],
      "metadata": {
        "colab": {
          "base_uri": "https://localhost:8080/"
        },
        "id": "8PxDGM5gAShT",
        "outputId": "a6161bef-cfc2-4098-9fd0-1354e8a62231"
      },
      "execution_count": 3,
      "outputs": [
        {
          "output_type": "stream",
          "name": "stdout",
          "text": [
            "zebra\n",
            "Test case 2 passed: Code should generate text starting with 'zebra' even if it's not in the corpus.\n"
          ]
        }
      ]
    },
    {
      "cell_type": "code",
      "source": [
        "# Test case 3: Edge Case - Empty Corpus\n",
        "empty_word_dict = {}  # Create an empty dictionary to simulate an empty corpus\n",
        "\n",
        "# Handle the empty corpus case gracefully (e.g., return an error or default text)\n",
        "try:\n",
        "  text = generate_text(empty_word_dict, start_word=\"any\", output_length=3)\n",
        "  print(text)\n",
        "except (IndexError, KeyError) as e:  # Catch potential errors related to empty dictionary access\n",
        "  print(f\"Test case 3 passed: Code handles empty corpus gracefully (error: {e}).\")"
      ],
      "metadata": {
        "colab": {
          "base_uri": "https://localhost:8080/"
        },
        "id": "_oKmPsAaAcos",
        "outputId": "7ade7f50-7c85-49f5-ebe0-6ce7240445f4"
      },
      "execution_count": 4,
      "outputs": [
        {
          "output_type": "stream",
          "name": "stdout",
          "text": [
            "Test case 3 passed: Code handles empty corpus gracefully (error: list index out of range).\n"
          ]
        }
      ]
    },
    {
      "cell_type": "code",
      "source": [
        "# Test case 4: Zero Output Length\n",
        "try:\n",
        "  text = generate_text(word_dict, start_word=\"is\", output_length=0)\n",
        "  print(f\"Output (should be empty): {text}\")\n",
        "except ValueError as e:\n",
        "  print(f\"Test case 4 passed: Code should raise an error for zero output length (error: {e}).\")"
      ],
      "metadata": {
        "colab": {
          "base_uri": "https://localhost:8080/"
        },
        "id": "TmExb6n9Aib9",
        "outputId": "ce6a00b9-1ada-4fa8-a7d3-5a165c352225"
      },
      "execution_count": 5,
      "outputs": [
        {
          "output_type": "stream",
          "name": "stdout",
          "text": [
            "Output (should be empty): \n"
          ]
        }
      ]
    },
    {
      "cell_type": "code",
      "source": [
        "# Test case 5: Very Long Output Length\n",
        "\n",
        "# Adjust this value based on your system resources and desired test length\n",
        "very_long_length = 1000\n",
        "\n",
        "try:\n",
        "  text = generate_text(word_dict, start_word=\"a\", output_length=very_long_length)\n",
        "  # Print only the first few words to avoid overwhelming the console/output\n",
        "  print(f\"Output (first few words): {text[:20]}...\")\n",
        "except (MemoryError, RecursionError) as e:\n",
        "  print(f\"Test case 5 passed: Code should handle very long output lengths gracefully (error: {e}).\")"
      ],
      "metadata": {
        "colab": {
          "base_uri": "https://localhost:8080/"
        },
        "id": "ZxXITXXQAqwl",
        "outputId": "7d0f589c-2261-47ae-8594-4db116967259"
      },
      "execution_count": 6,
      "outputs": [
        {
          "output_type": "stream",
          "name": "stdout",
          "text": [
            "Output (first few words): a sample text the mo...\n"
          ]
        }
      ]
    },
    {
      "cell_type": "code",
      "source": [
        "# Test case 6: Non-string starting word (should raise TypeError)\n",
        "try:\n",
        "  text = generate_text(word_dict, start_word=10, output_length=5)  # Pass an integer as starting word\n",
        "  print(text)\n",
        "except TypeError as e:\n",
        "  print(f\"Test case 6 passed: Code should raise an error for non-string starting word (error: {e}).\")"
      ],
      "metadata": {
        "colab": {
          "base_uri": "https://localhost:8080/"
        },
        "id": "_T0sF3F8AyBK",
        "outputId": "57c76dfc-4137-4ed4-aae7-6100d7802b92"
      },
      "execution_count": 7,
      "outputs": [
        {
          "output_type": "stream",
          "name": "stdout",
          "text": [
            "10 them to create a \n"
          ]
        }
      ]
    },
    {
      "cell_type": "code",
      "source": [
        "# Test case 7: Non-numeric output length (should raise TypeError)\n",
        "try:\n",
        "  text = generate_text(word_dict, start_word=\"once\", output_length=\"ten\")  # Pass a string as output length\n",
        "  print(text)\n",
        "except TypeError as e:\n",
        "  print(f\"Test case 7 passed: Code should raise an error for non-numeric output length (error: {e}).\")"
      ],
      "metadata": {
        "colab": {
          "base_uri": "https://localhost:8080/"
        },
        "id": "QRILetkEA4i4",
        "outputId": "96ff2dbe-22b9-4af2-e029-3f5822d554f4"
      },
      "execution_count": 8,
      "outputs": [
        {
          "output_type": "stream",
          "name": "stdout",
          "text": [
            "Test case 7 passed: Code should raise an error for non-numeric output length (error: '<=' not supported between instances of 'str' and 'int').\n"
          ]
        }
      ]
    }
  ]
}