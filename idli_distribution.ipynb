{
  "nbformat": 4,
  "nbformat_minor": 0,
  "metadata": {
    "colab": {
      "provenance": []
    },
    "kernelspec": {
      "name": "python3",
      "display_name": "Python 3"
    },
    "language_info": {
      "name": "python"
    }
  },
  "cells": [
    {
      "cell_type": "code",
      "execution_count": 1,
      "metadata": {
        "colab": {
          "base_uri": "https://localhost:8080/"
        },
        "id": "3y1d7YLC1dCa",
        "outputId": "3f31040b-10d8-44dc-e83e-6a14e6383e49"
      },
      "outputs": [
        {
          "output_type": "stream",
          "name": "stdout",
          "text": [
            "Test case 1: [2, 4, 6, 8]\n",
            "Minimum number of idlis to distribute: 0\n",
            "\n",
            "Test case 2: [1, 3, 5, 7]\n",
            "Minimum number of idlis to distribute: 2\n",
            "\n",
            "Test case 3: [2, 3, 5, 6]\n",
            "Minimum number of idlis to distribute: 1\n",
            "\n",
            "Test case 4: [2, 4, 5, 7]\n",
            "Minimum number of idlis to distribute: 1\n",
            "\n",
            "Test case 5: [1]\n",
            "Minimum number of idlis to distribute: -1\n",
            "\n",
            "Test case 6: []\n",
            "Minimum number of idlis to distribute: 0\n",
            "\n",
            "Test case 7: [2, 3, 4, 5, 6, 7, 8, 9, 10, 11, 12, 13, 14, 15, 16, 17, 18, 19, 20, 21, 22, 23, 24, 25, 26, 27, 28, 29, 30, 31, 32, 33, 34, 35, 36, 37, 38, 39, 40, 41, 42, 43, 44, 45, 46, 47, 48, 49, 50, 51, 52, 53, 54, 55, 56, 57, 58, 59, 60, 61, 62, 63, 64, 65, 66, 67, 68, 69, 70, 71, 72, 73, 74, 75, 76, 77, 78, 79, 80, 81, 82, 83, 84, 85, 86, 87, 88, 89, 90, 91, 92, 93, 94, 95, 96, 97, 98, 99, 100]\n",
            "Minimum number of idlis to distribute: -1\n",
            "\n"
          ]
        }
      ],
      "source": [
        "def distribute_idlis(citizens):\n",
        "    return distribute_helper(citizens, 0)\n",
        "\n",
        "def distribute_helper(citizens, idx):\n",
        "    if idx >= len(citizens):\n",
        "        return 0\n",
        "\n",
        "    if is_even(citizens[idx]):\n",
        "        return distribute_helper(citizens, idx + 1)\n",
        "\n",
        "    if idx == len(citizens) - 1:\n",
        "        return -1\n",
        "\n",
        "    distribute_to_next(citizens, idx)\n",
        "    next_distribution = distribute_helper(citizens, idx + 1)\n",
        "\n",
        "    if next_distribution == -1:\n",
        "        return -1\n",
        "\n",
        "    return 1 + next_distribution\n",
        "\n",
        "def is_even(num):\n",
        "    return num % 2 == 0\n",
        "\n",
        "def distribute_to_next(citizens, idx):\n",
        "    citizens[idx] += 1\n",
        "    citizens[idx + 1] += 1\n",
        "\n",
        "# Test cases\n",
        "test_cases = [\n",
        "    [2, 4, 6, 8],\n",
        "    [1, 3, 5, 7],\n",
        "    [2, 3, 5, 6],\n",
        "    [2, 4, 5, 7],\n",
        "    [1],\n",
        "    [],\n",
        "    list(range(2, 101))\n",
        "]\n",
        "\n",
        "for idx, test_case in enumerate(test_cases):\n",
        "    print(f\"Test case {idx + 1}: {test_case}\")\n",
        "    print(\"Minimum number of idlis to distribute:\", distribute_idlis(test_case))\n",
        "    print()"
      ]
    }
  ]
}