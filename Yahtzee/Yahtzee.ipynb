{
  "nbformat": 4,
  "nbformat_minor": 0,
  "metadata": {
    "colab": {
      "provenance": []
    },
    "kernelspec": {
      "name": "python3",
      "display_name": "Python 3"
    },
    "language_info": {
      "name": "python"
    }
  },
  "cells": [
    {
      "cell_type": "code",
      "execution_count": 9,
      "metadata": {
        "id": "xZtaW4Xvn3vW"
      },
      "outputs": [],
      "source": [
        "import random as ra\n",
        "\n",
        "def roll_dice(num_dice: int) -> list[int]:\n",
        "  \"\"\"\n",
        "  Starts rolling a specified number of dice.\n",
        "\n",
        "  Args:\n",
        "      num_dice: An integer representing the number of dice to roll.\n",
        "\n",
        "  Returns:\n",
        "      A list of integers representing the rolled dice values (1-6).\n",
        "  \"\"\"\n",
        "  if num_dice <= 0:\n",
        "    raise ValueError(\"Number of dice must be a positive integer.\")\n",
        "\n",
        "  return [ra.randint(1, 6) for _ in range(num_dice)]\n"
      ]
    },
    {
      "cell_type": "code",
      "source": [
        "def calculate_score(dice: list[int], category: str) -> int:\n",
        "  \"\"\"\n",
        "  Finds the score for a specific Yahtzee category for a given dice roll.\n",
        "\n",
        "  Args:\n",
        "      dice: A list of integers representing the rolled dice values (1-6).\n",
        "      category: A string representing the Yahtzee category name (lowercase).\n",
        "\n",
        "  Returns:\n",
        "      An integer representing the score for the specified category,\n",
        "      or 0 if the category is invalid.\n",
        "  \"\"\"\n",
        "\n",
        "  # Validate input dice (all values between 1 and 6)\n",
        "  if not all(1 <= die <= 6 for die in dice):\n",
        "    return 0  # Invalid dice values\n",
        "\n",
        "  # Dictionary to store category scoring logic (replace with your actual implementation)\n",
        "  scores = {\n",
        "      \"yahtzee\": lambda dice: 50 if all(die == dice[0] for die in dice[1:]) else 0,\n",
        "      \"full_house\": lambda dice: 25 if (len(set(dice)) == 2 and (2 in dice.count(dice[0]) or 3 in dice.count(dice[0]))) else 0,\n",
        "      # add logic for other categories\n",
        "  }\n",
        "\n",
        "  # Handling valid category and return score\n",
        "  if category.lower() in scores:  # Ensure lowercase comparison\n",
        "    return scores[category.lower()](dice)\n",
        "\n",
        "  # Handling invalid category\n",
        "  return 0\n"
      ],
      "metadata": {
        "id": "R8STqtq5oHhO"
      },
      "execution_count": 10,
      "outputs": []
    },
    {
      "cell_type": "code",
      "source": [
        "def score(dice: list[int]) -> dict[str, int]:\n",
        "  \"\"\"\n",
        "  Calculates the score for each Yahtzee category for a given dice roll.\n",
        "\n",
        "  Args:\n",
        "      dice: A list of integers representing the rolled dice values (1-6).\n",
        "\n",
        "  Returns:\n",
        "      A dictionary where keys are Yahtzee category names (strings) and values are\n",
        "      corresponding scores (integers).\n",
        "  \"\"\"\n",
        "  scores = {\n",
        "      \"ones\": sum(die == 1 for die in dice),\n",
        "      \"twos\": sum(die == 2 for die in dice),\n",
        "      \"threes\": sum(die == 3 for die in dice),\n",
        "      \"fours\": sum(die == 4 for die in dice),\n",
        "      \"fives\": sum(die == 5 for die in dice),\n",
        "      \"sixes\": sum(die == 6 for die in dice),\n",
        "      \"three_of_a_kind\": sum(dice) if len(set(dice)) <= 3 else 0,\n",
        "      \"four_of_a_kind\": sum(dice) if len(set(dice)) <= 2 else 0,\n",
        "      \"full_house\": 25 if (len(set(dice)) == 2 and (2 in dice.count(dice[0]) or 3 in dice.count(dice[0]))) else 0,\n",
        "      \"small_straight\": 30 if sorted(dice) == [1, 2, 3, 4] or sorted(dice) == [2, 3, 4, 5] else 0,\n",
        "      \"large_straight\": 40 if sorted(dice) == [1, 2, 3, 4, 5] or sorted(dice) == [2, 3, 4, 5, 6] else 0,\n",
        "      \"yahtzee\": 50 if all(dice.count(val) == 1 for val in dice) else 0,\n",
        "      \"chance\": sum(dice),\n",
        "  }\n",
        "  return scores\n"
      ],
      "metadata": {
        "id": "f_acUXZcpAqD"
      },
      "execution_count": 11,
      "outputs": []
    },
    {
      "cell_type": "code",
      "source": [
        "def choose_best_move_simple(dice: list[int], available_scores: dict[str, bool]) -> str:\n",
        "  \"\"\"\n",
        "  Chooses the best move (category) based on the highest fixed score\n",
        "  among available categories.\n",
        "\n",
        "  Args:\n",
        "      dice: A list of integers representing the rolled dice values (1-6).\n",
        "      available_scores: A dictionary where keys are Yahtzee category names\n",
        "                         (strings) and values are True/False indicating\n",
        "                         availability.\n",
        "\n",
        "  Returns:\n",
        "      A string representing the Yahtzee category with the highest\n",
        "      fixed score (e.g., Yahtzee, Full House) among available categories.\n",
        "  \"\"\"\n",
        "  best_score = 0\n",
        "  best_category = None\n",
        "  for category, available in available_scores.items():\n",
        "    if available:\n",
        "      category_score = calculate_score(dice, category)\n",
        "      if category_score > best_score and category_score in (50, 40, 25):  # Fixed high-scoring categories\n",
        "        best_score = category_score\n",
        "        best_category = category\n",
        "  return best_category or \"re-roll\"  # Return \"re-roll\" if no available category found\n"
      ],
      "metadata": {
        "id": "wAnFSQ6CpIc8"
      },
      "execution_count": 12,
      "outputs": []
    },
    {
      "cell_type": "code",
      "source": [
        "def show_dice(dice: list[int]) -> None:\n",
        "  \"\"\"\n",
        "  Displays the rolled dice values.\n",
        "\n",
        "  Args:\n",
        "      dice: A list of integers representing the rolled dice values (1-6).\n",
        "\n",
        "  Returns:\n",
        "      None\n",
        "  \"\"\"\n",
        "  print(\"Rolled Dice:\")\n",
        "  for die in dice:\n",
        "    print(f\"[Die {dice.index(die)+1}] {die}\")  # f-string for formatted output\n"
      ],
      "metadata": {
        "id": "s6Ky6TjZpNF2"
      },
      "execution_count": 13,
      "outputs": []
    },
    {
      "cell_type": "code",
      "source": [
        "def show_scores(available_scores: dict[str, bool]) -> None:\n",
        "  \"\"\"\n",
        "  Displays the available Yahtzee categories and their potential scores.\n",
        "\n",
        "  Args:\n",
        "      available_scores: A dictionary where keys are Yahtzee category names\n",
        "                         (strings) and values are True/False indicating\n",
        "                         availability.\n",
        "\n",
        "  Returns:\n",
        "      None\n",
        "  \"\"\"\n",
        "  print(\"Available Categories:\")\n",
        "  for category, available in available_scores.items():\n",
        "    if available:\n",
        "      score = calculate_score(get_rolled_dice(), category)  # Assuming get_rolled_dice() exists\n",
        "      print(f\"{category}: {score} (Available)\")\n",
        "    else:\n",
        "      print(f\"{category}: Not Available\")\n"
      ],
      "metadata": {
        "id": "4cLhgOY_pS5Y"
      },
      "execution_count": 14,
      "outputs": []
    },
    {
      "cell_type": "code",
      "source": [
        "def track_score_history(score: int, round_num: int) -> None:\n",
        "  \"\"\"\n",
        "  Keeps track of the score history for each round.\n",
        "\n",
        "  Args:\n",
        "      score: An integer representing the score achieved in the current round.\n",
        "      round_num: An integer representing the current round number.\n",
        "\n",
        "  Returns:\n",
        "      None\n",
        "  \"\"\"\n",
        "  # Implement logic to store score history (e.g., list, dictionary)\n",
        "  # This example uses a list to store (round, score) tuples\n",
        "  score_history.append((round_num, score))\n",
        "  print(f\"Round {round_num} Score: {score}\")  # Print current round score\n"
      ],
      "metadata": {
        "id": "SR7IU6owpZ_q"
      },
      "execution_count": 15,
      "outputs": []
    },
    {
      "cell_type": "code",
      "source": [
        "import unittest\n",
        "import random\n",
        "\n",
        "# Define the roll_dice function (assuming it's not already defined elsewhere)\n",
        "def roll_dice(num_dice):\n",
        "  \"\"\"\n",
        "  Simulates rolling a specified number of dice.\n",
        "\n",
        "  Args:\n",
        "      num_dice: An integer representing the number of dice to roll.\n",
        "\n",
        "  Returns:\n",
        "      A list of integers representing the rolled dice values (1-6).\n",
        "  \"\"\"\n",
        "  if num_dice <= 0:\n",
        "    raise ValueError(\"Number of dice must be a positive integer.\")\n",
        "\n",
        "  return [random.randint(1, 6) for _ in range(num_dice)]\n",
        "\n",
        "# Test Cases (adapted as functions for easier execution)\n",
        "def test_roll_dice_5():\n",
        "  \"\"\"Test rolling 5 dice, expect a list of 5 random integers between 1 and 6.\"\"\"\n",
        "  rolled_dice = roll_dice(5)\n",
        "  if len(rolled_dice) != 5:\n",
        "    print(\"Error: Incorrect number of dice rolled.\")\n",
        "    return\n",
        "  for die in rolled_dice:\n",
        "    if not (1 <= die <= 6):\n",
        "      print(\"Error: Die value outside valid range (1-6).\")\n",
        "      return\n",
        "  print(\"Test Passed: Roll_dice(5) returned a valid list of 5 dice values.\")\n",
        "\n",
        "def test_roll_dice_4():\n",
        "  \"\"\"Test rolling 4 dice, expect a list of 4 random integers between 1 and 6.\"\"\"\n",
        "  rolled_dice = roll_dice(4)\n",
        "  if len(rolled_dice) != 4:\n",
        "    print(\"Error: Incorrect number of dice rolled.\")\n",
        "    return\n",
        "  for die in rolled_dice:\n",
        "    if not (1 <= die <= 6):\n",
        "      print(\"Error: Die value outside valid range (1-6).\")\n",
        "      return\n",
        "  print(\"Test Passed: Roll_dice(4) returned a valid list of 4 dice values.\")\n",
        "\n",
        "def test_roll_dice_0():\n",
        "  \"\"\"Test rolling 0 dice, expect a ValueError for invalid input.\"\"\"\n",
        "  try:\n",
        "    roll_dice(0)\n",
        "  except ValueError as e:\n",
        "    print(\"Test Passed: Roll_dice(0) raised a ValueError:\", e)\n",
        "  else:\n",
        "    print(\"Error: Roll_dice(0) did not raise a ValueError.\")\n",
        "\n",
        "def test_roll_dice_multiple():\n",
        "  \"\"\"Test rolling dice multiple times, verify different results.\"\"\"\n",
        "  rolls = [roll_dice(5) for _ in range(3)]\n",
        "  if rolls[0] == rolls[1]:\n",
        "    print(\"Error: Consecutive rolls produced identical results.\")\n",
        "  elif rolls[1] == rolls[2]:\n",
        "    print(\"Error: Consecutive rolls produced identical results.\")\n",
        "  else:\n",
        "    print(\"Test Passed: Multiple rolls produced different results.\")\n",
        "\n",
        "# Execute Test Cases\n",
        "test_roll_dice_5()\n",
        "test_roll_dice_0()\n",
        "test_roll_dice_4()\n",
        "test_roll_dice_multiple()\n",
        "\n"
      ],
      "metadata": {
        "colab": {
          "base_uri": "https://localhost:8080/"
        },
        "id": "zf3iz59Tpeis",
        "outputId": "9b44f4cb-d695-4362-934a-50f091b8d69e"
      },
      "execution_count": 18,
      "outputs": [
        {
          "output_type": "stream",
          "name": "stdout",
          "text": [
            "Test Passed: Roll_dice(5) returned a valid list of 5 dice values.\n",
            "Test Passed: Roll_dice(0) raised a ValueError: Number of dice must be a positive integer.\n",
            "Test Passed: Roll_dice(4) returned a valid list of 4 dice values.\n",
            "Test Passed: Multiple rolls produced different results.\n"
          ]
        }
      ]
    }
  ]
}